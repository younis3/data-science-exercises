{
 "cells": [
  {
   "cell_type": "code",
   "execution_count": 37,
   "metadata": {},
   "outputs": [],
   "source": [
    "import numpy as np\n",
    "incomes = np.random.normal(27000,15000,10000)\n"
   ]
  },
  {
   "cell_type": "code",
   "execution_count": 38,
   "metadata": {},
   "outputs": [
    {
     "data": {
      "text/plain": [
       "26973.23003224039"
      ]
     },
     "execution_count": 38,
     "metadata": {},
     "output_type": "execute_result"
    }
   ],
   "source": [
    "np.mean(incomes)"
   ]
  },
  {
   "cell_type": "code",
   "execution_count": 39,
   "metadata": {},
   "outputs": [],
   "source": [
    "%matplotlib inline"
   ]
  },
  {
   "cell_type": "code",
   "execution_count": 40,
   "metadata": {},
   "outputs": [
    {
     "data": {
      "image/png": "[encoded data removed]",
      "text/plain": [
       "<Figure size 432x288 with 1 Axes>"
      ]
     },
     "metadata": {
      "needs_background": "light"
     },
     "output_type": "display_data"
    }
   ],
   "source": [
    "import matplotlib.pyplot as plt\n",
    "plt.hist(incomes,50)\n",
    "plt.show()"
   ]
  },
  {
   "cell_type": "code",
   "execution_count": 28,
   "metadata": {},
   "outputs": [],
   "source": [
    "incomes = np.append(incomes,[10000000000])"
   ]
  },
  {
   "cell_type": "code",
   "execution_count": 29,
   "metadata": {},
   "outputs": [
    {
     "data": {
      "text/plain": [
       "1026921.094176745"
      ]
     },
     "execution_count": 29,
     "metadata": {},
     "output_type": "execute_result"
    }
   ],
   "source": [
    "np.mean(incomes)"
   ]
  },
  {
   "cell_type": "code",
   "execution_count": 31,
   "metadata": {},
   "outputs": [
    {
     "data": {
      "text/plain": [
       "27171.49554162769"
      ]
     },
     "execution_count": 31,
     "metadata": {},
     "output_type": "execute_result"
    }
   ],
   "source": [
    "np.median(incomes)"
   ]
  },
  {
   "cell_type": "code",
   "execution_count": 32,
   "metadata": {},
   "outputs": [
    {
     "data": {
      "text/plain": [
       "array([20001.42336076, 22130.90389193, 30833.79640843, 29178.60301819,\n",
       "       47181.89270039, 67667.35313031, 30498.49949179, 43372.84510302,\n",
       "       22831.31768576, 32261.24949303, 31499.15713659,   496.67641457,\n",
       "       34015.82754047, 10172.66721693, 21946.32917653, 25962.60337942,\n",
       "       27238.92626189, 54200.98659647, 29433.29406117, 19159.76777996,\n",
       "       44579.83567167, 41675.15710735, 30882.07979062, 25805.78934682,\n",
       "        -260.93655233, 53251.50487182,  7182.78696054, 14494.36011286,\n",
       "       14667.86215446, 13374.49508601, 12330.40776372, 37408.37527535,\n",
       "       45300.78612788, 18959.53324621, 43196.0017098 , 12315.0639831 ,\n",
       "       50684.19055915, 39132.39785349, 13899.30996536, 40341.90684983])"
      ]
     },
     "execution_count": 32,
     "metadata": {},
     "output_type": "execute_result"
    }
   ],
   "source": [
    "incomes[0:40]"
   ]
  },
  {
   "cell_type": "code",
   "execution_count": 33,
   "metadata": {},
   "outputs": [
    {
     "data": {
      "text/plain": [
       "array([44, 76, 44, 19, 31, 19, 56, 40, 69, 52, 58, 59, 22, 80, 86, 89, 65,\n",
       "       55, 82, 52, 26, 27, 58, 61, 40, 53, 76, 51, 81, 76, 40, 33, 19, 66,\n",
       "       71, 80, 65, 76, 49, 84, 41, 64, 51, 22, 66, 67, 48, 59, 60, 21, 63,\n",
       "       75, 89, 28, 36, 44, 88, 88, 33, 53, 82, 65, 52, 84, 56, 30, 56, 40,\n",
       "       84, 59, 27, 20, 69, 29, 88, 34, 25, 55, 44, 29, 40, 43, 28, 34, 84,\n",
       "       59, 59, 61, 70, 70, 78, 85, 32, 32, 35, 21, 63, 86, 47, 72, 35, 89,\n",
       "       58, 57, 29, 28, 61, 55, 30, 29, 58, 49, 61, 20, 71, 43, 74, 81, 73,\n",
       "       80, 76, 29, 65, 37, 61, 20, 21, 71, 82, 35, 42, 46, 23, 18, 65, 86,\n",
       "       27, 43, 61, 38, 23, 31, 25, 35, 71, 57, 88, 69, 84, 31, 64, 36, 59,\n",
       "       31, 49, 74, 42, 26, 63, 38, 79, 68, 46, 81, 50, 41, 81, 77, 42, 54,\n",
       "       31, 84, 89, 66, 32, 85, 30, 76, 84, 87, 68, 63, 70, 37, 26, 51, 86,\n",
       "       20, 48, 82, 86, 45, 18, 34, 53, 51, 75, 47, 60, 71, 34, 38, 53, 75,\n",
       "       56, 76, 59, 32, 35, 51, 72, 87, 41, 54, 21, 30, 44, 22, 41, 82, 29,\n",
       "       40, 51, 59, 31, 26, 44, 55, 35, 18, 62, 78, 33, 63, 88, 32, 37, 70,\n",
       "       56, 36, 20, 33, 71, 56, 20, 41, 35, 33, 21, 70, 55, 43, 41, 86, 82,\n",
       "       80, 59, 31, 65, 50, 55, 40, 51, 66, 39, 86, 88, 38, 74, 40, 24, 32,\n",
       "       39, 46, 42, 80, 65, 39, 32, 65, 35, 41, 42, 45, 53, 60, 59, 59, 49,\n",
       "       52, 26, 58, 18, 47, 82, 76, 44, 75, 76, 63, 53, 76, 77, 31, 83, 33,\n",
       "       55, 63, 48, 61, 81, 74, 34, 72, 43, 52, 75, 73, 37, 18, 89, 56, 63,\n",
       "       64, 21, 83, 20, 46, 25, 73, 46, 32, 83, 77, 30, 42, 45, 89, 47, 52,\n",
       "       83, 53, 61, 59, 30, 54, 61, 40, 57, 56, 82, 72, 31, 30, 71, 58, 22,\n",
       "       63, 65, 71, 21, 28, 68, 68, 36, 84, 88, 87, 65, 54, 43, 72, 76, 79,\n",
       "       89, 25, 32, 61, 56, 41, 45, 33, 34, 28, 22, 89, 80, 43, 79, 37, 34,\n",
       "       71, 51, 54, 53, 74, 21, 41, 37, 82, 52, 74, 44, 38, 38, 46, 71, 81,\n",
       "       41, 41, 25, 60, 64, 67, 50, 86, 88, 37, 28, 57, 87, 60, 54, 87, 62,\n",
       "       62, 61, 77, 45, 78, 80, 88, 25, 52, 73, 21, 54, 65, 60, 22, 77, 41,\n",
       "       19, 18, 77, 58, 58, 75, 22, 82, 39, 66, 71, 73, 65, 31, 18, 54, 41,\n",
       "       60, 88, 22, 85, 60, 68, 35, 60, 48, 19, 23, 53, 56, 78, 81, 30, 70,\n",
       "       89, 51, 49, 47, 20, 68, 66, 29, 78, 18, 53, 64, 89, 85, 85, 59, 64,\n",
       "       77, 76, 83, 34, 82, 40, 18])"
      ]
     },
     "execution_count": 33,
     "metadata": {},
     "output_type": "execute_result"
    }
   ],
   "source": [
    "ages = np.random.randint(18,high=90,size=500)\n",
    "ages"
   ]
  },
  {
   "cell_type": "code",
   "execution_count": 34,
   "metadata": {},
   "outputs": [
    {
     "data": {
      "text/plain": [
       "ModeResult(mode=array([41]), count=array([13]))"
      ]
     },
     "execution_count": 34,
     "metadata": {},
     "output_type": "execute_result"
    }
   ],
   "source": [
    "from scipy import stats\n",
    "stats.mode(ages)"
   ]
  },
  {
   "cell_type": "code",
   "execution_count": 41,
   "metadata": {},
   "outputs": [
    {
     "data": {
      "text/plain": [
       "15003.386882130135"
      ]
     },
     "execution_count": 41,
     "metadata": {},
     "output_type": "execute_result"
    }
   ],
   "source": [
    "incomes.std()"
   ]
  },
  {
   "cell_type": "code",
   "execution_count": 42,
   "metadata": {},
   "outputs": [
    {
     "data": {
      "text/plain": [
       "225101617.93487462"
      ]
     },
     "execution_count": 42,
     "metadata": {},
     "output_type": "execute_result"
    }
   ],
   "source": [
    "incomes.var()"
   ]
  },
  {
   "cell_type": "code",
   "execution_count": 43,
   "metadata": {},
   "outputs": [],
   "source": [
    "x = np.arange(-3,3,0.001)"
   ]
  },
  {
   "cell_type": "code",
   "execution_count": 45,
   "metadata": {},
   "outputs": [
    {
     "data": {
      "text/plain": [
       "[<matplotlib.lines.Line2D at 0x21e306aa400>]"
      ]
     },
     "execution_count": 45,
     "metadata": {},
     "output_type": "execute_result"
    },
    {
     "data": {
      "image/png": "[encoded data removed]",
      "text/plain": [
       "<Figure size 432x288 with 1 Axes>"
      ]
     },
     "metadata": {
      "needs_background": "light"
     },
     "output_type": "display_data"
    }
   ],
   "source": [
    "from scipy.stats import norm\n",
    "plt.plot(x,norm.pdf(x))"
   ]
  },
  {
   "cell_type": "code",
   "execution_count": 47,
   "metadata": {},
   "outputs": [
    {
     "data": {
      "text/plain": [
       "[<matplotlib.lines.Line2D at 0x21e3070c340>]"
      ]
     },
     "execution_count": 47,
     "metadata": {},
     "output_type": "execute_result"
    },
    {
     "data": {
      "image/png": "[encoded data removed]",
      "text/plain": [
       "<Figure size 432x288 with 1 Axes>"
      ]
     },
     "metadata": {
      "needs_background": "light"
     },
     "output_type": "display_data"
    }
   ],
   "source": [
    "from scipy.stats import expon\n",
    "x = np.arange(0,10,0.001)\n",
    "plt.plot(x,expon.pdf(x))"
   ]
  },
  {
   "cell_type": "code",
   "execution_count": null,
   "metadata": {},
   "outputs": [],
   "source": []
  }
 ],
 "metadata": {
  "kernelspec": {
   "display_name": "Python 3",
   "language": "python",
   "name": "python3"
  },
  "language_info": {
   "codemirror_mode": {
    "name": "ipython",
    "version": 3
   },
   "file_extension": ".py",
   "mimetype": "text/x-python",
   "name": "python",
   "nbconvert_exporter": "python",
   "pygments_lexer": "ipython3",
   "version": "3.8.5"
  }
 },
 "nbformat": 4,
 "nbformat_minor": 4
}
